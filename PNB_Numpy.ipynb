{
  "nbformat": 4,
  "nbformat_minor": 0,
  "metadata": {
    "colab": {
      "provenance": [],
      "include_colab_link": true
    },
    "kernelspec": {
      "name": "python3",
      "display_name": "Python 3"
    }
  },
  "cells": [
    {
      "cell_type": "markdown",
      "metadata": {
        "id": "view-in-github",
        "colab_type": "text"
      },
      "source": [
        "<a href=\"https://colab.research.google.com/github/Pradhibha/CHATBOT/blob/master/PNB_Numpy.ipynb\" target=\"_parent\"><img src=\"https://colab.research.google.com/assets/colab-badge.svg\" alt=\"Open In Colab\"/></a>"
      ]
    },
    {
      "cell_type": "markdown",
      "source": [
        "## Practice Notebook"
      ],
      "metadata": {
        "id": "pj9zUCIaV8-s"
      }
    },
    {
      "cell_type": "markdown",
      "metadata": {
        "id": "XaMNn3wLYPCp"
      },
      "source": [
        "### Introduction to Numpy\n",
        "NumPy (Numerical Python) is a python library for scientific computing, that provides high-performance vectors, matrices and higher-dimensional data structures for Python."
      ]
    },
    {
      "cell_type": "markdown",
      "metadata": {
        "id": "U2hvjYvI-PCp"
      },
      "source": [
        "## Numpy"
      ]
    },
    {
      "cell_type": "markdown",
      "metadata": {
        "id": "bFXr9Jw6thml"
      },
      "source": [
        "####  Exercise 1: Import the numpy package as np.\n",
        "\n",
        "Hint: use 'import … as …'"
      ]
    },
    {
      "cell_type": "code",
      "metadata": {
        "id": "IDOY6ZMvqLo8"
      },
      "source": [
        "# YOUR CODE HERE\n",
        "import numpy as np"
      ],
      "execution_count": 12,
      "outputs": []
    },
    {
      "cell_type": "markdown",
      "metadata": {
        "id": "RK7s0EsTtnal"
      },
      "source": [
        "####  Exercise 2: Print the numpy version and the configuration.\n",
        "\n",
        "Hint: np.__version__, np.show_config"
      ]
    },
    {
      "cell_type": "code",
      "metadata": {
        "id": "JBcycyWLue6Z",
        "outputId": "fd55ad03-51f5-47cf-9cb6-ed91bacd995c",
        "colab": {
          "base_uri": "https://localhost:8080/"
        }
      },
      "source": [
        "# YOUR CODE HERE\n",
        "print(np.version)\n",
        "print(np.show_config)"
      ],
      "execution_count": 2,
      "outputs": [
        {
          "output_type": "stream",
          "name": "stdout",
          "text": [
            "<module 'numpy.version' from '/usr/local/lib/python3.10/dist-packages/numpy/version.py'>\n",
            "<function show at 0x7e28cfb90820>\n"
          ]
        }
      ]
    },
    {
      "cell_type": "markdown",
      "metadata": {
        "id": "AeoNP5Cwughg"
      },
      "source": [
        "#### Exercise 3: Create an array of 10 zeros and 20 ones.\n",
        "\n",
        "Hint: np.zeros, np.ones"
      ]
    },
    {
      "cell_type": "code",
      "metadata": {
        "id": "iWQ0iMpwuhWx",
        "outputId": "76c93d25-ea94-47c1-daf3-fd101629bfd7",
        "colab": {
          "base_uri": "https://localhost:8080/"
        }
      },
      "source": [
        "# YOUR CODE HERE\n",
        "np.zeros(10,dtype='int')\n",
        "np.ones(10,dtype='int')"
      ],
      "execution_count": 64,
      "outputs": [
        {
          "output_type": "execute_result",
          "data": {
            "text/plain": [
              "array([1, 1, 1, 1, 1, 1, 1, 1, 1, 1])"
            ]
          },
          "metadata": {},
          "execution_count": 64
        }
      ]
    },
    {
      "cell_type": "markdown",
      "metadata": {
        "id": "ka2AUzVQv804"
      },
      "source": [
        "####  Exercise 4: Create a vector with values ranging from 10 to 49.\n",
        "\n",
        "Hint: np.arange"
      ]
    },
    {
      "cell_type": "code",
      "metadata": {
        "id": "ZNwL2Ub5vuYk",
        "outputId": "04fa7cba-f359-48bf-b16d-2be66d8521fc",
        "colab": {
          "base_uri": "https://localhost:8080/"
        }
      },
      "source": [
        "# YOUR CODE HERE\n",
        "np.arange(10,50)"
      ],
      "execution_count": 7,
      "outputs": [
        {
          "output_type": "execute_result",
          "data": {
            "text/plain": [
              "array([10, 11, 12, 13, 14, 15, 16, 17, 18, 19, 20, 21, 22, 23, 24, 25, 26,\n",
              "       27, 28, 29, 30, 31, 32, 33, 34, 35, 36, 37, 38, 39, 40, 41, 42, 43,\n",
              "       44, 45, 46, 47, 48, 49])"
            ]
          },
          "metadata": {},
          "execution_count": 7
        }
      ]
    },
    {
      "cell_type": "markdown",
      "metadata": {
        "id": "yAKm26J3wCgu"
      },
      "source": [
        "####  Exercise 5: Reverse a vector (first element becomes last).\n",
        "\n",
        "Hint: np.array[::-1]"
      ]
    },
    {
      "cell_type": "code",
      "metadata": {
        "id": "GOBhkidowD4c",
        "outputId": "7cb82206-9635-466b-b5f8-adfd4e87ec74",
        "colab": {
          "base_uri": "https://localhost:8080/"
        }
      },
      "source": [
        "# YOUR CODE HERE\n",
        "a=np.arange(10)\n",
        "print(a)\n",
        "print(a[::-1])"
      ],
      "execution_count": 66,
      "outputs": [
        {
          "output_type": "stream",
          "name": "stdout",
          "text": [
            "[0 1 2 3 4 5 6 7 8 9]\n",
            "[9 8 7 6 5 4 3 2 1 0]\n"
          ]
        }
      ]
    },
    {
      "cell_type": "markdown",
      "metadata": {
        "id": "Q_06mID8w4MW"
      },
      "source": [
        "####  Exercise 6: Find the indices of the non-zero elements from [1, 2, 0, 0,  4, 0].\n",
        "\n",
        "Hint: np.nonzero"
      ]
    },
    {
      "cell_type": "code",
      "metadata": {
        "id": "y_iT1Dy0w7Gi",
        "outputId": "f4b4b8de-5274-4cdd-da28-321a0db12781",
        "colab": {
          "base_uri": "https://localhost:8080/"
        }
      },
      "source": [
        "# YOUR CODE HERE\n",
        "np.nonzero([1, 2, 0, 0, 4, 0])"
      ],
      "execution_count": 19,
      "outputs": [
        {
          "output_type": "execute_result",
          "data": {
            "text/plain": [
              "(array([0, 1, 4]),)"
            ]
          },
          "metadata": {},
          "execution_count": 19
        }
      ]
    },
    {
      "cell_type": "markdown",
      "metadata": {
        "id": "nVfeZNX3wGNb"
      },
      "source": [
        "####  Exercise 7: Create a 3x3 identity matrix.\n",
        "\n",
        "Hint: np.eye"
      ]
    },
    {
      "cell_type": "code",
      "metadata": {
        "id": "8k4ir6ahJYyO",
        "outputId": "28563054-2b51-4fc0-8de4-a27bc08e744a",
        "colab": {
          "base_uri": "https://localhost:8080/"
        }
      },
      "source": [
        "# YOUR CODE HERE\n",
        "np.eye(4,4,k=3,dtype=int)"
      ],
      "execution_count": 25,
      "outputs": [
        {
          "output_type": "execute_result",
          "data": {
            "text/plain": [
              "array([[0, 0, 0, 1],\n",
              "       [0, 0, 0, 0],\n",
              "       [0, 0, 0, 0],\n",
              "       [0, 0, 0, 0]])"
            ]
          },
          "metadata": {},
          "execution_count": 25
        }
      ]
    },
    {
      "cell_type": "markdown",
      "metadata": {
        "id": "TzHOcbSIxK6s"
      },
      "source": [
        "#### Exercise 7: Generate a random number between 0 and 1 using numpy.\n",
        "\n",
        "Hint: np.random.rand()"
      ]
    },
    {
      "cell_type": "code",
      "metadata": {
        "id": "2ZbT4b3XJZeK",
        "outputId": "4b671c10-4509-4b20-9345-e18dda8eeba5",
        "colab": {
          "base_uri": "https://localhost:8080/"
        }
      },
      "source": [
        "# YOUR CODE HERE\n",
        "np.random.rand()"
      ],
      "execution_count": 27,
      "outputs": [
        {
          "output_type": "execute_result",
          "data": {
            "text/plain": [
              "0.26286304219567347"
            ]
          },
          "metadata": {},
          "execution_count": 27
        }
      ]
    },
    {
      "cell_type": "markdown",
      "metadata": {
        "id": "EgiUQA7QxUj2"
      },
      "source": [
        "####  Exercise 8: Create a 10x10 array with random values, find the minimum and the maximum values.\n",
        "\n",
        "Hint: min, max"
      ]
    },
    {
      "cell_type": "code",
      "metadata": {
        "id": "EX04NKRbJk2p",
        "outputId": "573e6f83-761e-48fb-c1f2-0ea087157355",
        "colab": {
          "base_uri": "https://localhost:8080/"
        }
      },
      "source": [
        "# YOUR CODE HERE\n",
        "x=np.random.random((5,5))\n",
        "print(x)\n",
        "print(x.min())\n",
        "print(x.max())\n"
      ],
      "execution_count": 33,
      "outputs": [
        {
          "output_type": "stream",
          "name": "stdout",
          "text": [
            "[[0.54347134 0.30163465 0.04122278 0.54627846 0.85283497]\n",
            " [0.27129002 0.00948473 0.67606023 0.19904984 0.78730433]\n",
            " [0.52635165 0.30653448 0.68496946 0.80895626 0.18070138]\n",
            " [0.84006472 0.25288586 0.73294595 0.73243122 0.16039583]\n",
            " [0.53053115 0.29310882 0.44902107 0.11513483 0.41941914]]\n",
            "0.009484725338233746\n",
            "0.8528349711526368\n"
          ]
        }
      ]
    },
    {
      "cell_type": "markdown",
      "metadata": {
        "id": "5dPx9hY7xYJP"
      },
      "source": [
        "####  Exercise 9: Create a numpy array from the given `List`.\n",
        "\n",
        "Hint: np.array"
      ]
    },
    {
      "cell_type": "code",
      "metadata": {
        "id": "t9_k8sooJmJZ",
        "outputId": "fc94e298-6a8c-4256-e8f2-0520f53b33d0",
        "colab": {
          "base_uri": "https://localhost:8080/"
        }
      },
      "source": [
        "# YOUR CODE HERE\n",
        "np.array([[1,2,3,4,5,6,7],[1,2,1,1,2,2,2]])"
      ],
      "execution_count": 37,
      "outputs": [
        {
          "output_type": "execute_result",
          "data": {
            "text/plain": [
              "array([[1, 2, 3, 4, 5, 6, 7],\n",
              "       [1, 2, 1, 1, 2, 2, 2]])"
            ]
          },
          "metadata": {},
          "execution_count": 37
        }
      ]
    },
    {
      "cell_type": "markdown",
      "metadata": {
        "id": "dp5BRXlMx6Fu"
      },
      "source": [
        "####  Exercise 10: Matrix multiplication for 1-D array.\n",
        "\n",
        "To multiply the matrix a and b.\n",
        "\n",
        "Hint: np.dot"
      ]
    },
    {
      "cell_type": "code",
      "metadata": {
        "id": "Q7F6olHUEfYT",
        "outputId": "fc02acd0-30be-430d-a247-7a440d728ca7",
        "colab": {
          "base_uri": "https://localhost:8080/"
        }
      },
      "source": [
        "a = np.array([9, 5, 7, 4])\n",
        "b = np.array([9, 5, 4, 3])\n",
        "\n",
        "# YOUR CODE HERE\n",
        "np.dot(a,b)"
      ],
      "execution_count": 38,
      "outputs": [
        {
          "output_type": "execute_result",
          "data": {
            "text/plain": [
              "146"
            ]
          },
          "metadata": {},
          "execution_count": 38
        }
      ]
    },
    {
      "cell_type": "markdown",
      "metadata": {
        "id": "MbR5BjJLKte-"
      },
      "source": [
        "####  Exercise 11: Transpose the given array [ [ 1, 2, 3], [ 4, 5, 6],  [ 7, 8, 9], [10, 11, 12] ].\n",
        "Hint: np.transpose( )"
      ]
    },
    {
      "cell_type": "code",
      "metadata": {
        "id": "L5h9uKpzKx1o",
        "outputId": "a6f0808c-4f18-4351-8b5c-4e4f93b07e8e",
        "colab": {
          "base_uri": "https://localhost:8080/"
        }
      },
      "source": [
        "# YOUR CODE HERE\n",
        "np.transpose([ [ 1, 2, 3], [ 4, 5, 6], [ 7, 8, 9], [10, 11, 12] ])"
      ],
      "execution_count": 39,
      "outputs": [
        {
          "output_type": "execute_result",
          "data": {
            "text/plain": [
              "array([[ 1,  4,  7, 10],\n",
              "       [ 2,  5,  8, 11],\n",
              "       [ 3,  6,  9, 12]])"
            ]
          },
          "metadata": {},
          "execution_count": 39
        }
      ]
    },
    {
      "cell_type": "markdown",
      "metadata": {
        "id": "TqTdqi0qLPzM"
      },
      "source": [
        "####  Exercise 12: Given an array *A*, calculate the square root of the elements in it.\n",
        "\n",
        "Hint: np.sqrt( )"
      ]
    },
    {
      "cell_type": "code",
      "metadata": {
        "id": "YevrEXCILv2u",
        "outputId": "ac20e154-ea71-4fb1-c995-e36de8b0114f",
        "colab": {
          "base_uri": "https://localhost:8080/"
        }
      },
      "source": [
        "A = np.arange(1,20)\n",
        "print(A)\n",
        "print(np.sqrt(A))\n",
        "# YOUR CODE HERE"
      ],
      "execution_count": 43,
      "outputs": [
        {
          "output_type": "stream",
          "name": "stdout",
          "text": [
            "[ 1  2  3  4  5  6  7  8  9 10 11 12 13 14 15 16 17 18 19]\n",
            "[1.         1.41421356 1.73205081 2.         2.23606798 2.44948974\n",
            " 2.64575131 2.82842712 3.         3.16227766 3.31662479 3.46410162\n",
            " 3.60555128 3.74165739 3.87298335 4.         4.12310563 4.24264069\n",
            " 4.35889894]\n"
          ]
        }
      ]
    },
    {
      "cell_type": "markdown",
      "metadata": {
        "id": "-xAt-FKUM7eF"
      },
      "source": [
        "#### Exercise 13: Concatenate two numpy arrays columnwise  by specifying axis = 1.\n",
        "Hint: np.concatenate( )"
      ]
    },
    {
      "cell_type": "code",
      "metadata": {
        "id": "b8KKeA8HNHWE",
        "outputId": "2cee8a40-e75b-40a5-ac09-7474484a8ab6",
        "colab": {
          "base_uri": "https://localhost:8080/"
        }
      },
      "source": [
        "c =np.array([[1,2],[3,4]])\n",
        "d =np.array([[5,6],[7,8]])\n",
        "# YOUR CODE HERE\n",
        "np.concatenate((c,d),axis=1)"
      ],
      "execution_count": 45,
      "outputs": [
        {
          "output_type": "execute_result",
          "data": {
            "text/plain": [
              "array([[1, 2, 5, 6],\n",
              "       [3, 4, 7, 8]])"
            ]
          },
          "metadata": {},
          "execution_count": 45
        }
      ]
    },
    {
      "cell_type": "markdown",
      "metadata": {
        "id": "Rbt3-28YOKIl"
      },
      "source": [
        "#### Exercise 14: Print the second and the third column for the given multidimensional array.\n"
      ]
    },
    {
      "cell_type": "code",
      "metadata": {
        "id": "6hJct3wLQMzL",
        "outputId": "9b1d4e86-25f2-4b43-b157-66ab547daceb",
        "colab": {
          "base_uri": "https://localhost:8080/"
        }
      },
      "source": [
        "a = np.array([[2, 4, 6, 8, 10],\n",
        "              [3, 6, 9, 12, 15],\n",
        "              [4, 8, 12, 16, 20]])\n",
        "# YOUR CODE HERE\n",
        "print(a[:,2:4])"
      ],
      "execution_count": 49,
      "outputs": [
        {
          "output_type": "stream",
          "name": "stdout",
          "text": [
            "[[ 6  8]\n",
            " [ 9 12]\n",
            " [12 16]]\n"
          ]
        }
      ]
    },
    {
      "cell_type": "markdown",
      "metadata": {
        "id": "C9ZyeDhBQYpv"
      },
      "source": [
        "####  Exercise 15: For the given multidimensional array:\n",
        "1. Calculate the mean row wise by specifying axis = 0 and column wise by specifying axis =1.\n",
        "2. What is the average value of an array?"
      ]
    },
    {
      "cell_type": "code",
      "metadata": {
        "id": "xfS6nsFlkyDw",
        "outputId": "12771b5b-e609-4586-e9c4-95a1daa5d915",
        "colab": {
          "base_uri": "https://localhost:8080/"
        }
      },
      "source": [
        "# 2D array\n",
        "arr = np.array([[2, 4, 6, 8, 10],\n",
        "              [3, 6, 9, 12, 15],\n",
        "              [4, 8, 12, 16, 20]])\n",
        "#YOUR CODE HERE\n",
        "print(\"\\nmean of arr, axis = None : \", np.mean(arr))\n",
        "\n",
        "# mean along the axis = 0\n",
        "print(\"\\nmean of arr, axis = 0 : \", np.mean(arr, axis = 0))\n",
        "\n",
        "# mean along the axis = 1\n",
        "print(\"\\nmean of arr, axis = 1 : \", np.mean(arr, axis = 1))\n",
        ""
      ],
      "execution_count": 54,
      "outputs": [
        {
          "output_type": "stream",
          "name": "stdout",
          "text": [
            "\n",
            "mean of arr, axis = None :  9.0\n",
            "\n",
            "mean of arr, axis = 0 :  [ 3.  6.  9. 12. 15.]\n",
            "\n",
            "mean of arr, axis = 1 :  [ 6.  9. 12.]\n"
          ]
        }
      ]
    },
    {
      "cell_type": "markdown",
      "metadata": {
        "id": "iM4ALiSdn5dR"
      },
      "source": [
        "#### Exercise 16: Create an array of all the even numbers from 30 to 70."
      ]
    },
    {
      "cell_type": "code",
      "metadata": {
        "id": "-Nk18AU7n-jG",
        "outputId": "367e5a16-c2ba-4f8d-d5fb-42e25eb4aed3",
        "colab": {
          "base_uri": "https://localhost:8080/"
        }
      },
      "source": [
        "#YOUR CODE HERE\n",
        "array = np.arange(30, 71, 2)\n",
        "print(array)"
      ],
      "execution_count": 56,
      "outputs": [
        {
          "output_type": "stream",
          "name": "stdout",
          "text": [
            "[30 32 34 36 38 40 42 44 46 48 50 52 54 56 58 60 62 64 66 68 70]\n"
          ]
        }
      ]
    },
    {
      "cell_type": "markdown",
      "metadata": {
        "id": "4dk-KHVD6AGF"
      },
      "source": [
        "#### Exercise 17: For the given array, get the slice of the first row and print them."
      ]
    },
    {
      "cell_type": "code",
      "metadata": {
        "id": "aQ_1ZMEuGzFE",
        "outputId": "b6b7f3fe-07b7-44bc-a38d-180321a26281",
        "colab": {
          "base_uri": "https://localhost:8080/"
        }
      },
      "source": [
        "a3 = np.array([[[10, 11, 12], [13, 14, 15], [16, 17, 18]],\n",
        "               [[20, 21, 22], [23, 24, 25], [26, 27, 28]],\n",
        "               [[30, 31, 32], [33, 34, 35], [36, 37, 38]]])\n",
        "\n",
        "#YOUR CODE HERE\n",
        "print(a3[0:1,:])"
      ],
      "execution_count": 59,
      "outputs": [
        {
          "output_type": "stream",
          "name": "stdout",
          "text": [
            "[[[10 11 12]\n",
            "  [13 14 15]\n",
            "  [16 17 18]]]\n"
          ]
        }
      ]
    }
  ]
}